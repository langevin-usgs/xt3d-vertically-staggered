{
 "cells": [
  {
   "cell_type": "markdown",
   "id": "fb820483",
   "metadata": {},
   "source": [
    "## The Importance of Cell Connectivity for Efficient and Accurate Modeling of Flow through Dipping Aquifers with MODFLOW 6\n",
    "\n",
    "Alden M. Provost, Kerry Bardot, Christian D. Langevin, James L. McCallum (2024)"
   ]
  },
  {
   "cell_type": "code",
   "execution_count": null,
   "id": "97d2eef7",
   "metadata": {},
   "outputs": [],
   "source": [
    "%run ./routines.ipynb      # Associated notebook with necessary functions\n",
    "%run ./figures.ipynb       # Associated notebook to generate figures for manuscript\n",
    "ws = './disu_model'\n",
    "\n",
    "domain = True              # option to include \"domain\" (True) or not (False)\n",
    "spdis_recalc = True        # option to recalculate specific discharge within the notebook\n",
    "dztol = 0.00001            # tolerance for determining overlap (dz > dztol) in a vertically staggered grid"
   ]
  },
  {
   "cell_type": "code",
   "execution_count": null,
   "id": "e915afaa",
   "metadata": {},
   "outputs": [],
   "source": [
    "# scenario parameters\n",
    "# scenario names -- keys of parameters dictionary are scenario names\n",
    "#                   built automatically from scenario options\n",
    "# staggered -- vertically staggered grid, i.e., cross-connections (True)\n",
    "#              or not, i.e., vertically offset (False)\n",
    "# xt3d -- xt3d on (True) or off, i.e., standard formulation (False)\n",
    "\n",
    "# scenario options\n",
    "options = [\n",
    "    {\n",
    "        \"optionname\": \"staggered\",\n",
    "        \"optionstrings\": {\n",
    "            False: \"-vo\",\n",
    "            True: \"-vs\",\n",
    "        },\n",
    "    },\n",
    "    {\n",
    "        \"optionname\": \"xt3d\",\n",
    "        \"optionstrings\": {\n",
    "            False: \"-s\",\n",
    "            True: \"-x\",\n",
    "        },\n",
    "    },\n",
    "]\n",
    "\n",
    "# build parameters dictionary\n",
    "parameters = build_parameters(options)"
   ]
  },
  {
   "cell_type": "code",
   "execution_count": null,
   "id": "307f5b48",
   "metadata": {
    "scrolled": false
   },
   "outputs": [],
   "source": [
    "# Lx is the full width of the model. The grid spacing in the x direction is\n",
    "# delr = Lx / ncol, and so the horizontal distance between the left and right\n",
    "# boundary conditions is Lx - delr. The cells in the channel are square, i.e.,\n",
    "# delz_chan = delr. The cross-sectional model has unit thickness \"into the page,\"\n",
    "# i.e., nrow = 1 and delc = 1.\n",
    "\n",
    "# The full thickness of the channel measured vertically is nlay_chan * delz_chan.\n",
    "# Theta is the angle (deg) at which the channel slopes, and so the width of the\n",
    "# \"true\" channel measured perpendicularly to the slope, i.e., the width available \n",
    "# for flow along the slope of the channel, is nlay_chan * delz_chan * cos(theta).\n",
    "# The increase in elevation (vertical offset) as one moves a column to the right\n",
    "# within the channel is delr * tan(theta).\n",
    "\n",
    "# adjustable grid parameters\n",
    "nlay_chan = 3                         # number of layers in channel\n",
    "ncol = 11                             # number of columns in model\n",
    "Lx = 11.0                             # full horizontal width of model\n",
    "theta = 30.                           # angle of inclination of channel\n",
    "k_dom = 1e-6                          # domain conductivity\n",
    "anisotropic = False\n",
    "\n",
    "# set up dis grid and conductivities\n",
    "mgs, nlay_dom_upper, icelltype, delz_chan, zspan, zthick, zthick_dom_ll, thick_arr \\\n",
    "    = set_up_dis_grid(nlay_chan, ncol, Lx, theta, domain)\n",
    "cond = set_up_cond(k_dom)\n",
    "\n",
    "# Calculate volumetric flow Analytical = kai \n",
    "flow_analytical = 1 * zthick * math.cos(math.radians(theta)) * 1\n",
    "\n",
    "# arrays for storing results\n",
    "models_all, head_all, spdismf6_all, q_all, qx_all, qy_all, qz_all, qnface_all, flow_all = [], [], [], [], [], [], [], [], []\n",
    "\n",
    "# loop over scenarios\n",
    "fig = plt.figure(figsize = (8,10))#, constrained_layout=True)\n",
    "nscen = len(parameters)\n",
    "for i in range(nscen):\n",
    "    # convert to disu grid\n",
    "    d2d = convert_to_disu(mgs, i, dztol)\n",
    "    xface, yface, zface, ifacetype = get_face_info(d2d)\n",
    "    # run scenario and store results\n",
    "    gwf, head, spdismf6, qx, qy, qz, qmagmid, qangmid, qnface, flow, flow_error = simulation(i)\n",
    "    models_all.append(gwf), head_all.append(head), spdismf6_all.append(spdismf6)\n",
    "    qx_all.append(qx), qy_all.append(qy), qz_all.append(qz)\n",
    "    q_all.append((qmagmid, qangmid, flow_error))\n",
    "    qnface_all.append(qnface)\n",
    "    flow_all.append(flow)\n",
    "    extent = (0., Lx, zthick_dom_ll, zthick_dom_ll + zspan + delz_chan)\n",
    "    #extent = None\n",
    "    #dxdysin = float(Lx / ncol) * 1. * math.sin(theta * math.pi / 180.)\n",
    "    scale_bndy = 10. ### * 0.5 * (1. + k_dom)\n",
    "    head_diff = head - head_analyt\n",
    "    print(\"Max head error = \", head_diff.max())\n",
    "    fig2(i, vmin = -20, vmax = 0, extent=extent,\n",
    "    scale_chan=10., scale_bndy=scale_bndy, scale_dom=10., normalize=False)\n",
    "    plt.tight_layout\n",
    "fig.savefig('../figures/fig2_paper.png' , dpi = 450)"
   ]
  },
  {
   "cell_type": "code",
   "execution_count": null,
   "id": "baf50b16",
   "metadata": {
    "scrolled": true
   },
   "outputs": [],
   "source": [
    "table1()"
   ]
  },
  {
   "cell_type": "markdown",
   "id": "baf5d4c7",
   "metadata": {},
   "source": [
    "### Investigating adding model layers within hydrogeologic layers "
   ]
  },
  {
   "cell_type": "code",
   "execution_count": null,
   "id": "1ca6f46b",
   "metadata": {
    "scrolled": false
   },
   "outputs": [],
   "source": [
    "ncol = 11                             # number of columns in model\n",
    "Lx = 11.0                             # full horizontal width of model\n",
    "theta = 30.                           # angle of inclination of channel\n",
    "k_dom = 1.e-6                         # domain conductivity\n",
    "\n",
    "# grid resolution cases\n",
    "resolution_scenarios = np.arange(1,10,1)\n",
    "nr = len(resolution_scenarios)\n",
    "\n",
    "res_results = [] \n",
    "\n",
    "# loop over grid resolution cases\n",
    "for n in range(nr):\n",
    "    nlay_chan = resolution_scenarios[n]   # number of layers in channel\n",
    "    # set up dis grid and conductivities\n",
    "    mgs, nlay_dom_upper, icelltype, delz_chan, zspan, zthick, zthick_dom_ll, thick_arr \\\n",
    "        = set_up_dis_grid(nlay_chan, ncol, Lx, theta, domain)\n",
    "    cond = set_up_cond(k_dom)\n",
    "    \n",
    "    # Calculate volumetric flow Analytical = kai \n",
    "    flow_analytical = 1 * zthick * math.cos(math.radians(theta)) * 1    \n",
    "    #print(zthick)\n",
    "    results = []\n",
    "    for i in range(nscen):\n",
    "        # convert to disu grid\n",
    "        d2d = convert_to_disu(mgs, i, dztol)\n",
    "        xface, yface, zface, ifacetype = get_face_info(d2d)\n",
    "        # run scenario and store results\n",
    "        gwf, head, spdismf6, qx, qy, qz, qmagmid, qangmid, qnface, flow, flow_error = simulation(i)  \n",
    "        results.append((qmagmid, qangmid, flow_error))\n",
    "    res_results.append(results)  \n",
    "fig3_results = np.array(res_results)"
   ]
  },
  {
   "cell_type": "code",
   "execution_count": null,
   "id": "4fb33282",
   "metadata": {
    "scrolled": false
   },
   "outputs": [],
   "source": [
    "fig3()"
   ]
  },
  {
   "cell_type": "markdown",
   "id": "0bb0cca1",
   "metadata": {},
   "source": [
    "### Investigating K contrast between hydrogeologic layer and domain"
   ]
  },
  {
   "cell_type": "code",
   "execution_count": null,
   "id": "cd074933",
   "metadata": {
    "scrolled": false
   },
   "outputs": [],
   "source": [
    "nlay_chan = 3                         # number of layers in channel\n",
    "ncol = 11                             # number of columns in model\n",
    "Lx = 11.0                             # full horizontal width of model\n",
    "\n",
    "# dip and K contrast cases\n",
    "dip = np.arange(0, 75, 2.5)   # For nice contours use (0,80,1)\n",
    "#log = np.arange(0, 3, 0.5)    # For nice contours use (0,4,0.2)\n",
    "log = [0, np.log10(2), np.log10(5), 1, 2]\n",
    "#log = [0.25, 0.5, 1, 2]\n",
    "Kcontrast = [10**i for i in log]\n",
    "Kcontrast = np.round(Kcontrast, 0)\n",
    "# arrays for storing results\n",
    "qmag_results = np.zeros((4, len(Kcontrast), len(dip)))\n",
    "qang_results = np.zeros((4, len(Kcontrast), len(dip)))\n",
    "dip_array = np.zeros((4, len(Kcontrast), len(dip)))\n",
    "Kcontrast_array = np.zeros((4, len(Kcontrast), len(dip)))\n",
    "\n",
    "# loop over scenarios\n",
    "for s in range(len(parameters)):\n",
    "    # loop over dip cases\n",
    "    for d in range(len(dip)):\n",
    "        theta = dip[d]                        # angle of inclination of channel\n",
    "        # set up dis grid\n",
    "        mgs, nlay_dom_upper, icelltype, delz_chan, zspan, zthick, zthick_dom_ll, thick_arr \\\n",
    "            = set_up_dis_grid(nlay_chan, ncol, Lx, theta, domain)\n",
    "        d2d = convert_to_disu(mgs, s, dztol)\n",
    "        xface, yface, zface, ifacetype = get_face_info(d2d)\n",
    "        # loop over K contrast cases\n",
    "        for kc in range(len(Kcontrast)):\n",
    "            #print('sim = %i, dip = %f0.1, contrast = %f0.2' %(s, dip[d], Kcontrast[kc]))\n",
    "            k_dom = 1./Kcontrast[kc]              # domain conductivity\n",
    "            # set up conductivities\n",
    "            cond = set_up_cond(k_dom)\n",
    "            # run case and store results\n",
    "            gwf, head, spdismf6, qx, qy, qz, qmagmid, qangmid, qnface, flow, flow_error = simulation(s)\n",
    "            qmag_results[s][kc][d] = qmagmid\n",
    "            qang_results[s][kc][d] = qangmid  \n",
    "            Kcontrast_array[s][kc][d] = Kcontrast[kc]\n",
    "            dip_array[s][kc][d] = dip[d]"
   ]
  },
  {
   "cell_type": "code",
   "execution_count": null,
   "id": "f6e0766b",
   "metadata": {},
   "outputs": [],
   "source": [
    "## Finding the maximum errors for ranging dip and contrast\n",
    "#s = 3 #scenario [0,1,2,3]\n",
    "#kc = 1 # kcontrast [  1.,   2.,   5.,  10., 100.]\n",
    "#print('Flux mag')\n",
    "#for i in range(len(dip_array[scenario][kc])):\n",
    "#    print(dip_array[s][kc][i], qmag_results[s][kc][i])\n",
    "#print('\\nFlux angle')\n",
    "#for i in range(len(dip_array[scenario][kc])):\n",
    "#    print(dip_array[s][kc][i], qang_results[s][kc][i])"
   ]
  },
  {
   "cell_type": "code",
   "execution_count": null,
   "id": "e2a2a6bf",
   "metadata": {
    "scrolled": false
   },
   "outputs": [],
   "source": [
    "fig4()"
   ]
  },
  {
   "cell_type": "code",
   "execution_count": null,
   "id": "3c7f0849",
   "metadata": {},
   "outputs": [],
   "source": [
    "# ANISOTROPY TEST\n",
    "nlay_chan = 3\n",
    "ncol = 11                             # number of columns in model\n",
    "Lx = 11.0                             # full horizontal width of model\n",
    "theta = 30.                           # angle of inclination of channel\n",
    "k_dom = 1.e-6                         # domain conductivity\n",
    "dip = 30\n",
    "anisotropic = True\n",
    "\n",
    "anisotropic_scenarios = [1,10,100,1000,10000]\n",
    "nr = len(anisotropic_scenarios)\n",
    "\n",
    "ani_results = [] \n",
    "\n",
    "# loop over grid resolution cases\n",
    "for n in range(nr):\n",
    "    ratio = anisotropic_scenarios[n]\n",
    "    #print(ratio)\n",
    "    \n",
    "    # set up dis grid and conductivities\n",
    "    mgs, nlay_dom_upper, icelltype, delz_chan, zspan, zthick, zthick_dom_ll, thick_arr \\\n",
    "        = set_up_dis_grid(nlay_chan, ncol, Lx, theta, domain)\n",
    "    cond = set_up_cond(k_dom)\n",
    "    \n",
    "    # Calculate volumetric flow Analytical = kai \n",
    "    flow_analytical = 1 * zthick * math.cos(math.radians(theta)) * 1    \n",
    "    \n",
    "    results = []\n",
    "    for i in range(nscen):\n",
    "        # convert to disu grid\n",
    "        d2d = convert_to_disu(mgs, i, dztol)\n",
    "        xface, yface, zface, ifacetype = get_face_info(d2d)\n",
    "        # run scenario and store results\n",
    "        gwf, head, spdismf6, qx, qy, qz, qmagmid, qangmid, qnface, flow, flow_error = simulation(i)  \n",
    "        results.append((qmagmid, qangmid, flow_error))\n",
    "    ani_results.append(results)  \n",
    "fig5_results = np.array(ani_results)"
   ]
  },
  {
   "cell_type": "code",
   "execution_count": null,
   "id": "d7b7b883",
   "metadata": {},
   "outputs": [],
   "source": [
    "fig5()"
   ]
  }
 ],
 "metadata": {
  "interpreter": {
   "hash": "4de6a03450f83fb469d4bfe842137d7a431c514d49ec7ab5bf926f55f681a3d1"
  },
  "kernelspec": {
   "display_name": "Python 3 (ipykernel)",
   "language": "python",
   "name": "python3"
  },
  "language_info": {
   "codemirror_mode": {
    "name": "ipython",
    "version": 3
   },
   "file_extension": ".py",
   "mimetype": "text/x-python",
   "name": "python",
   "nbconvert_exporter": "python",
   "pygments_lexer": "ipython3",
   "version": "3.9.13"
  }
 },
 "nbformat": 4,
 "nbformat_minor": 5
}
