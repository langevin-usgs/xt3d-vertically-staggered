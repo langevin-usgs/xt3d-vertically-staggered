{
 "cells": [
  {
   "cell_type": "markdown",
   "id": "d1df4c41",
   "metadata": {},
   "source": [
    "## Improving Accuracy of Simulated Flows in Steeply Dipping Layers Using Vertically Staggered Grids with the XT3D Multi-Point Flux Approximation in MODFLOW 6"
   ]
  },
  {
   "cell_type": "code",
   "execution_count": null,
   "id": "41d39905",
   "metadata": {},
   "outputs": [],
   "source": [
    "%run ./routines.ipynb\n",
    "%run ./figures.ipynb\n",
    "ws = './disu_model'"
   ]
  },
  {
   "cell_type": "code",
   "execution_count": null,
   "id": "9967d738",
   "metadata": {},
   "outputs": [],
   "source": [
    "domain = True              # option to include \"domain\" (True) or not (False)\n",
    "spdis_recalc = True        # option to recalculate specific discharge within the notebook\n",
    "dztol = 0.00001            # tolerance for determining overlap (dz > dztol) in a vertically staggered grid"
   ]
  },
  {
   "cell_type": "code",
   "execution_count": null,
   "id": "8201ab6b",
   "metadata": {},
   "outputs": [],
   "source": [
    "# scenario parameters\n",
    "# scenario names -- keys of parameters dictionary are scenario names\n",
    "#                   built automatically from scenario options\n",
    "# staggered -- vertically staggered grid, i.e., cross-connections (True)\n",
    "#              or not, i.e., vertically offset (False)\n",
    "# xt3d -- xt3d on (True) or off, i.e., standard formulation (False)\n",
    "\n",
    "# scenario options\n",
    "options = [\n",
    "    {\n",
    "        \"optionname\": \"staggered\",\n",
    "        \"optionstrings\": {\n",
    "            False: \"-vo\",\n",
    "            True: \"-vs\",\n",
    "        },\n",
    "    },\n",
    "    {\n",
    "        \"optionname\": \"xt3d\",\n",
    "        \"optionstrings\": {\n",
    "            False: \"-s\",\n",
    "            True: \"-x\",\n",
    "        },\n",
    "    },\n",
    "]\n",
    "\n",
    "# build parameters dictionary\n",
    "parameters = build_parameters(options)"
   ]
  },
  {
   "cell_type": "code",
   "execution_count": null,
   "id": "d53181fd",
   "metadata": {
    "scrolled": false
   },
   "outputs": [],
   "source": [
    "# Lx is the full width of the model. The grid spacing in the x direction is\n",
    "# delr = Lx / ncol, and so the horizontal distance between the left and right\n",
    "# boundary conditions is Lx - delr. The cells in the channel are square, i.e.,\n",
    "# delz_chan = delr. The cross-sectional model has unit thickness \"into the page,\"\n",
    "# i.e., nrow = 1 and delc = 1.\n",
    "\n",
    "# The full thickness of the channel measured vertically is nlay_chan * delz_chan.\n",
    "# Theta is the angle (deg) at which the channel slopes, and so the width of the\n",
    "# \"true\" channel measured perpendicularly to the slope, i.e., the width available \n",
    "# for flow along the slope of the channel, is nlay_chan * delz_chan * cos(theta).\n",
    "# The increase in elevation (vertical offset) as one moves a column to the right\n",
    "# within the channel is delr * tan(theta).\n",
    "\n",
    "# adjustable grid parameters\n",
    "nlay_chan = 3                         # number of layers in channel\n",
    "ncol = 11                             # number of columns in model\n",
    "Lx = 11.0                             # full horizontal width of model\n",
    "theta = 30.                           # angle of inclination of channel\n",
    "k_dom = 2.e-1                         # domain conductivity\n",
    "\n",
    "# set up dis grid and conductivities\n",
    "mgs, nlay_dom_upper, icelltype, delz_chan, zspan, zthick, zthick_dom_ll \\\n",
    "    = set_up_dis_grid(nlay_chan, ncol, Lx, theta, domain)\n",
    "cond = set_up_cond(k_dom)\n",
    "\n",
    "# arrays for storing results\n",
    "models_all, head_all, spdismf6_all, q_all, qx_all, qy_all, qz_all, qnface_all = [], [], [], [], [], [], [], []\n",
    "\n",
    "# loop over scenarios\n",
    "\n",
    "nscen = len(parameters)\n",
    "for i in range(nscen):\n",
    "    # convert to disu grid\n",
    "    d2d = convert_to_disu(mgs, i, dztol)\n",
    "    xface, yface, zface, ifacetype = get_face_info(d2d)\n",
    "    # run scenario and store results\n",
    "    gwf, head, spdismf6, qx, qy, qz, qmagmid, qangmid, qnface = simulation(i)\n",
    "    models_all.append(gwf), head_all.append(head), spdismf6_all.append(spdismf6)\n",
    "    qx_all.append(qx), qy_all.append(qy), qz_all.append(qz)\n",
    "    q_all.append((qmagmid, qangmid))\n",
    "    qnface_all.append(qnface)\n",
    "    extent = (0., Lx, zthick_dom_ll, zthick_dom_ll + zspan + delz_chan)\n",
    "    #extent = None\n",
    "    #dxdysin = float(Lx / ncol) * 1. * math.sin(theta * math.pi / 180.)\n",
    "    scale_bndy = 10. * 0.5 * (1. + k_dom)\n",
    "    fig2(i, vmin = -20, vmax = 0, extent=extent,\n",
    "         scale_chan=10., scale_bndy=scale_bndy, scale_dom=10.*k_dom, normalize=False)"
   ]
  },
  {
   "cell_type": "code",
   "execution_count": null,
   "id": "abc60897",
   "metadata": {
    "scrolled": true
   },
   "outputs": [],
   "source": [
    "table1()"
   ]
  },
  {
   "cell_type": "markdown",
   "id": "41432cda",
   "metadata": {},
   "source": [
    "### Investigating adding model layers within hydrogeologic layers "
   ]
  },
  {
   "cell_type": "code",
   "execution_count": null,
   "id": "f590b1c9",
   "metadata": {
    "scrolled": false
   },
   "outputs": [],
   "source": [
    "ncol = 11                             # number of columns in model\n",
    "Lx = 11.0                             # full horizontal width of model\n",
    "theta = 30.                           # angle of inclination of channel\n",
    "k_dom = 1.e-6                         # domain conductivity\n",
    "\n",
    "# grid resolution cases\n",
    "resolution_scenarios = np.arange(1,10,1)\n",
    "nr = len(resolution_scenarios)\n",
    "\n",
    "# arrays for storing results\n",
    "vo_results, vs_results = [], []\n",
    "\n",
    "# loop over grid resolution cases\n",
    "for n in range(nr):\n",
    "    nlay_chan = resolution_scenarios[n]   # number of layers in channel\n",
    "    # set up dis grid and conductivities\n",
    "    mgs, nlay_dom_upper, icelltype, delz_chan, zspan, zthick, zthick_dom_ll \\\n",
    "        = set_up_dis_grid(nlay_chan, ncol, Lx, theta, domain)\n",
    "    cond = set_up_cond(k_dom)\n",
    "    # run scenarios 1 and 3 (the two with XT3D) for this case and store results\n",
    "        # convert to disu grid\n",
    "    d2d = convert_to_disu(mgs, 1, dztol)\n",
    "    xface, yface, zface, ifacetype = get_face_info(d2d)\n",
    "    gwf, head, spdismf6, qx, qy, qz, qmagmid, qangmid, qnface = simulation(1)  # VO(XT3D)\n",
    "    vo_results.append((nlay_chan, qmagmid, qangmid))\n",
    "    d2d = convert_to_disu(mgs, 3, dztol)\n",
    "    gwf, head, spdismf6, qx, qy, qz, qmagmid, qangmid, qnface = simulation(3)  # VS(XT3D)\n",
    "    vs_results.append((nlay_chan, qmagmid, qangmid))"
   ]
  },
  {
   "cell_type": "code",
   "execution_count": null,
   "id": "e5cff09c",
   "metadata": {},
   "outputs": [],
   "source": [
    "fig3()"
   ]
  },
  {
   "cell_type": "markdown",
   "id": "19e5e77a",
   "metadata": {},
   "source": [
    "### Investigating K contrast between hydrogeologic layer and domain"
   ]
  },
  {
   "cell_type": "code",
   "execution_count": null,
   "id": "ff8feb9d",
   "metadata": {
    "scrolled": true
   },
   "outputs": [],
   "source": [
    "nlay_chan = 5                         # number of layers in channel\n",
    "ncol = 11                             # number of columns in model\n",
    "Lx = 11.0                             # full horizontal width of model\n",
    "\n",
    "# dip and K contrast cases\n",
    "dip = np.arange(0, 80, 2.5)   # For nice contours use (0,80,1)\n",
    "#log = np.arange(0, 3, 0.5)    # For nice contours use (0,4,0.2)\n",
    "log = [0.25, 0.5, 1, 2]\n",
    "Kcontrast = [10**i for i in log]\n",
    "\n",
    "# arrays for storing results\n",
    "qmag_results = np.zeros((4, len(Kcontrast), len(dip)))\n",
    "qang_results = np.zeros((4, len(Kcontrast), len(dip)))\n",
    "dip_array = np.zeros((4, len(Kcontrast), len(dip)))\n",
    "Kcontrast_array = np.zeros((4, len(Kcontrast), len(dip)))\n",
    "\n",
    "# loop over scenarios\n",
    "for s in range(len(parameters)):\n",
    "    # loop over dip cases\n",
    "    for d in range(len(dip)):\n",
    "        theta = dip[d]                        # angle of inclination of channel\n",
    "        # set up dis grid\n",
    "        mgs, nlay_dom_upper, icelltype, delz_chan, zspan, zthick, zthick_dom_ll \\\n",
    "            = set_up_dis_grid(nlay_chan, ncol, Lx, theta, domain)\n",
    "        d2d = convert_to_disu(mgs, s, dztol)\n",
    "        xface, yface, zface, ifacetype = get_face_info(d2d)\n",
    "        # loop over K contrast cases\n",
    "        for kc in range(len(Kcontrast)):\n",
    "            k_dom = 1./Kcontrast[kc]              # domain conductivity\n",
    "            # set up conductivities\n",
    "            cond = set_up_cond(k_dom)\n",
    "            # run case and store results\n",
    "            #print('\\nk_contrast = %i, dip = %i, scenario = %i' %(Kcontrast[kc], dip[d], s))\n",
    "            gwf, head, spdismf6, qx, qy, qz, qmagmid, qangmid, qnface = simulation(s)\n",
    "            qmag_results[s][kc][d] = qmagmid\n",
    "            qang_results[s][kc][d] = qangmid  \n",
    "            Kcontrast_array[s][kc][d] = Kcontrast[kc]\n",
    "            dip_array[s][kc][d] = dip[d]"
   ]
  },
  {
   "cell_type": "code",
   "execution_count": null,
   "id": "382b539f",
   "metadata": {
    "scrolled": false
   },
   "outputs": [],
   "source": [
    "fig4alt2()"
   ]
  },
  {
   "cell_type": "code",
   "execution_count": null,
   "id": "035c5eaa",
   "metadata": {
    "scrolled": false
   },
   "outputs": [],
   "source": [
    "#fig4alt()"
   ]
  },
  {
   "cell_type": "code",
   "execution_count": null,
   "id": "6de07284",
   "metadata": {
    "scrolled": false
   },
   "outputs": [],
   "source": [
    "#fig4()"
   ]
  }
 ],
 "metadata": {
  "interpreter": {
   "hash": "4de6a03450f83fb469d4bfe842137d7a431c514d49ec7ab5bf926f55f681a3d1"
  },
  "kernelspec": {
   "display_name": "Python 3 (ipykernel)",
   "language": "python",
   "name": "python3"
  },
  "language_info": {
   "codemirror_mode": {
    "name": "ipython",
    "version": 3
   },
   "file_extension": ".py",
   "mimetype": "text/x-python",
   "name": "python",
   "nbconvert_exporter": "python",
   "pygments_lexer": "ipython3",
   "version": "3.9.13"
  }
 },
 "nbformat": 4,
 "nbformat_minor": 5
}
